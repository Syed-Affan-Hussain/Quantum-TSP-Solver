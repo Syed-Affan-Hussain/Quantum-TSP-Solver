{
 "cells": [
  {
   "cell_type": "code",
   "execution_count": 9,
   "id": "cb60b99f",
   "metadata": {},
   "outputs": [],
   "source": [
    "import numpy as np\n",
    "import matplotlib.pyplot as plt\n",
    "\n",
    "from qiskit.tools.visualization import plot_histogram\n",
    "from qiskit import QuantumCircuit, QuantumRegister, ClassicalRegister,execute, Aer"
   ]
  },
  {
   "cell_type": "code",
   "execution_count": 10,
   "id": "428a4895",
   "metadata": {},
   "outputs": [],
   "source": [
    "# Function to create the cost Hamiltonian for the TSP\n",
    "def create_cost_Hamiltonian(distances):\n",
    "    n_cities = len(distances)\n",
    "    H = np.zeros((n_cities, n_cities))\n",
    "    for i in range(n_cities):\n",
    "        for j in range(n_cities):\n",
    "            if i != j:\n",
    "                H[i][j] = distances[i][j]\n",
    "    return H\n"
   ]
  },
  {
   "cell_type": "code",
   "execution_count": 11,
   "id": "e9572fc8",
   "metadata": {},
   "outputs": [],
   "source": [
    "# Function to create the mixer Hamiltonian for the TSP\n",
    "def create_mixer_Hamiltonian(n_cities):\n",
    "    H = np.ones((n_cities, n_cities)) - np.eye(n_cities)\n",
    "    return H"
   ]
  },
  {
   "cell_type": "code",
   "execution_count": 12,
   "id": "ed01f15f",
   "metadata": {},
   "outputs": [],
   "source": [
    "# Function to create the QAOA circuit for the TSP\n",
    "def create_QAOA_circuit(distances, p):\n",
    "    n_cities = len(distances)\n",
    "    \n",
    "    # Create quantum registers and classical register\n",
    "    qr = QuantumRegister(n_cities)\n",
    "    cr = ClassicalRegister(n_cities)\n",
    "    \n",
    "    # Create quantum circuit\n",
    "    qc = QuantumCircuit(qr, cr)\n",
    "    \n",
    "    # Create cost and mixer Hamiltonians\n",
    "    cost_H = create_cost_Hamiltonian(distances)\n",
    "    mixer_H = create_mixer_Hamiltonian(n_cities)\n",
    "    \n",
    "    # Apply QAOA steps\n",
    "    for i in range(p):\n",
    "        # Apply cost Hamiltonian\n",
    "        for j in range(n_cities):\n",
    "            for k in range(j+1, n_cities):\n",
    "                qc.cx(qr[j], qr[k])\n",
    "                qc.p(-cost_H[j][k], qr[k])\n",
    "                qc.cx(qr[j], qr[k])\n",
    "        # Apply mixer Hamiltonian\n",
    "        for j in range(n_cities):\n",
    "            qc.h(qr[j])\n",
    "            qc.x(qr[j])\n",
    "        qc.barrier()\n",
    "        for j in range(n_cities):\n",
    "            for k in range(j+1, n_cities):\n",
    "                qc.cx(qr[j], qr[k])\n",
    "                qc.p(-mixer_H[j][k], qr[k])\n",
    "                qc.cx(qr[j], qr[k])\n",
    "        for j in range(n_cities):\n",
    "            qc.x(qr[j])\n",
    "            qc.h(qr[j])\n",
    "    \n",
    "    # Measure qubits\n",
    "    for j in range(n_cities):\n",
    "        qc.measure(qr[j], cr[j])\n",
    "    \n",
    "    \n",
    "    return qc"
   ]
  },
  {
   "cell_type": "code",
   "execution_count": 13,
   "id": "2b8eb668",
   "metadata": {},
   "outputs": [
    {
     "data": {
      "image/png": "[encoded data removed]",
      "text/plain": [
       "<Figure size 432x288 with 1 Axes>"
      ]
     },
     "metadata": {
      "needs_background": "light"
     },
     "output_type": "display_data"
    },
    {
     "name": "stdout",
     "output_type": "stream",
     "text": [
      "[0, 10, 0, 10, 20, 20, 10, 10]\n"
     ]
    }
   ],
   "source": [
    "cities = ['A', 'B', 'C', 'D']\n",
    "distances= [[0, 4, 9, 5], [6, 0, 4, 8], [9, 4, 0, 9], [5, 8, 9, 0]]\n",
    "cv = create_QAOA_circuit(distances, 200)\n",
    "print\n",
    "# Execute the circuit on a simulator backend\n",
    "backend = Aer.get_backend('qasm_simulator')\n",
    "result = execute(cv, backend , shots=2047).result()\n",
    "\n",
    "# Extract the results from the execution object\n",
    "counts = result.get_counts()\n",
    "\n",
    "# Initialize the list of optimal costs\n",
    "optimal_costs = []\n",
    "\n",
    "# Iterate over the results\n",
    "for bitstring, count in counts.items():\n",
    "    # Convert the bitstring to a list of integers\n",
    "    path = [int(x) for x in bitstring]\n",
    "    \n",
    "    # Compute the cost of the path\n",
    "    cost = 0\n",
    "    for i in range(len(path)-1):\n",
    "        cost += distances[path[i]][path[i+1]]\n",
    "    cost += distances[path[-1]][path[0]]\n",
    "    \n",
    "    # Append the cost to the list\n",
    "    optimal_costs.append(cost)\n",
    "\n",
    "# Plot the histogram of optimal costs\n",
    "plt.hist(optimal_costs, bins=20)\n",
    "plt.show()\n",
    "print(optimal_costs)"
   ]
  },
  {
   "cell_type": "code",
   "execution_count": null,
   "id": "0599c028",
   "metadata": {},
   "outputs": [],
   "source": []
  }
 ],
 "metadata": {
  "kernelspec": {
   "display_name": "Python 3 (ipykernel)",
   "language": "python",
   "name": "python3"
  },
  "language_info": {
   "codemirror_mode": {
    "name": "ipython",
    "version": 3
   },
   "file_extension": ".py",
   "mimetype": "text/x-python",
   "name": "python",
   "nbconvert_exporter": "python",
   "pygments_lexer": "ipython3",
   "version": "3.9.12"
  }
 },
 "nbformat": 4,
 "nbformat_minor": 5
}
